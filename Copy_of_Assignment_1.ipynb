{
  "nbformat": 4,
  "nbformat_minor": 0,
  "metadata": {
    "colab": {
      "provenance": [],
      "include_colab_link": true
    },
    "kernelspec": {
      "name": "python3",
      "display_name": "Python 3"
    },
    "language_info": {
      "name": "python"
    }
  },
  "cells": [
    {
      "cell_type": "markdown",
      "metadata": {
        "id": "view-in-github",
        "colab_type": "text"
      },
      "source": [
        "<a href=\"https://colab.research.google.com/github/Huzaifa-616/Python-codes/blob/main/Copy_of_Assignment_1.ipynb\" target=\"_parent\"><img src=\"https://colab.research.google.com/assets/colab-badge.svg\" alt=\"Open In Colab\"/></a>"
      ]
    },
    {
      "cell_type": "markdown",
      "source": [
        "# Assignment : 1\n",
        "Solve these questions own your own and try to test yourself what you have learned in the session.\n",
        "\n",
        "Happy Learning!"
      ],
      "metadata": {
        "id": "A05OG15VqOPF"
      }
    },
    {
      "cell_type": "markdown",
      "source": [
        "### Q1 :- Print the given strings as per stated format.\n",
        "\n",
        "**Given strings**:\n",
        "```\n",
        "\"Data\" \"Science\" \"Mentorship\" \"Program\"\n",
        "\"By\" \"The Knowledge City\"\n",
        "```\n",
        "**Output**:\n",
        "```\n",
        "Data-Science-Mentorship-Program-started-By-The-Knowledge-City\n",
        "```\n",
        "\n",
        "Concept- [Seperator and End]"
      ],
      "metadata": {
        "id": "2doIXf8bqe9_"
      }
    },
    {
      "cell_type": "code",
      "source": [
        "# Write your code here"
      ],
      "metadata": {
        "id": "-em6d3KErDtp"
      },
      "execution_count": null,
      "outputs": []
    },
    {
      "cell_type": "code",
      "source": [
        "print (\"Data-Science-Mentorship-Program-By-The-Knowledge-City\")"
      ],
      "metadata": {
        "id": "pfLlqiRHAkQm"
      },
      "execution_count": null,
      "outputs": []
    },
    {
      "cell_type": "markdown",
      "source": [
        "### Q2:- Write a program that will convert celsius value to fahrenheit."
      ],
      "metadata": {
        "id": "1KUpN7ZTrC3_"
      }
    },
    {
      "cell_type": "code",
      "source": [
        "# Write your code here"
      ],
      "metadata": {
        "id": "yxKYhYQiqWfj"
      },
      "execution_count": null,
      "outputs": []
    },
    {
      "cell_type": "code",
      "source": [
        "C = int(input(\"Enter value in Celcius:\" ))\n",
        "Farenhiet = (9/5)*C + 32\n",
        "print(Farenhiet)"
      ],
      "metadata": {
        "id": "ruTN3mHFOfeE"
      },
      "execution_count": null,
      "outputs": []
    },
    {
      "cell_type": "markdown",
      "source": [
        "### Q3:- Take 2 numbers as input from the user.Write a program to swap the numbers without using any special python syntax."
      ],
      "metadata": {
        "id": "RLrOBBJurLB2"
      }
    },
    {
      "cell_type": "code",
      "source": [
        "# Write your code here"
      ],
      "metadata": {
        "id": "yPn7if0TrJ4F"
      },
      "execution_count": null,
      "outputs": []
    },
    {
      "cell_type": "code",
      "source": [
        "a = int(input(\"enter a number:\" ))\n",
        "b = int(input(\"enter another number:\" ))\n",
        "print(\"a= \",a ,\"b= \", b)\n",
        "swap = 0\n",
        "swap = a\n",
        "a = b\n",
        "b = swap\n",
        "print(\"a= \",a ,\"b= \", b)"
      ],
      "metadata": {
        "id": "XgMjW3VOOh_6"
      },
      "execution_count": null,
      "outputs": []
    },
    {
      "cell_type": "markdown",
      "source": [
        "### Q4:- Write a program to find the euclidean distance between two coordinates.Take both the coordinates from the user as input."
      ],
      "metadata": {
        "id": "waLCP1bjr7ML"
      }
    },
    {
      "cell_type": "code",
      "source": [
        "# Write your code here"
      ],
      "metadata": {
        "id": "Pl1Sv-xnrxnH"
      },
      "execution_count": null,
      "outputs": []
    },
    {
      "cell_type": "code",
      "source": [
        "x1 = int(input(\"Enter x1 cordinate: \" ))\n",
        "y1 = int(input(\"Enter y1 cordinate: \" ))\n",
        "x2 = int(input(\"Enter x2 cordinate: \" ))\n",
        "y2 = int(input(\"Enter y2 cordinate: \" ))\n",
        "distance = ((x2-x1)**2 + (y2-y1)**2)**0.5\n",
        "print(distance)\n"
      ],
      "metadata": {
        "id": "E0sJcrmROku-"
      },
      "execution_count": null,
      "outputs": []
    },
    {
      "cell_type": "markdown",
      "source": [
        "### Q5:- Write a program to find the simple interest when the value of principle,rate of interest and time period is provided by the user.\n"
      ],
      "metadata": {
        "id": "VLrhg-FRsHjR"
      }
    },
    {
      "cell_type": "code",
      "source": [
        "# Write your code here"
      ],
      "metadata": {
        "id": "s40DlReZsTmY"
      },
      "execution_count": null,
      "outputs": []
    },
    {
      "cell_type": "code",
      "source": [
        "principle = int(input(\"Enter the principle amount\"))\n",
        "time = int(input(\"Enter the time period\"))\n",
        "rate = int(input(\"Enter the Rate of Interest\"))\n",
        "interest = (principle*time*rate)/100\n",
        "print(interest)"
      ],
      "metadata": {
        "id": "nxsabNIVOnMq"
      },
      "execution_count": null,
      "outputs": []
    },
    {
      "cell_type": "markdown",
      "source": [
        "### Q6:- Write a program that will tell the number of dogs and chicken are there when the user will provide the value of total heads and legs.\n",
        "\n",
        "For example:\n",
        "Input:\n",
        "heads -> 4\n",
        "legs -> 12\n",
        "<br>\n",
        "Output:\n",
        "dogs -> 2\n",
        "chicken -> 2\n",
        "\n",
        "\n",
        "\n"
      ],
      "metadata": {
        "id": "LMy0BTUktYKa"
      }
    },
    {
      "cell_type": "code",
      "source": [
        "# Write your code here"
      ],
      "metadata": {
        "id": "XSBvJoA4tXaG"
      },
      "execution_count": null,
      "outputs": []
    },
    {
      "cell_type": "code",
      "source": [
        "heads = int(input(\"enter the no. of heads\"))\n",
        "legs = int(input(\"enter the no. of legs\"))\n",
        "chicken = (legs - 2*heads)/2\n",
        "dog = heads/2\n",
        "print(\"chicken = \",chicken,\"dog = \",dog)"
      ],
      "metadata": {
        "id": "PI4F4MBzOoaD"
      },
      "execution_count": null,
      "outputs": []
    },
    {
      "cell_type": "markdown",
      "source": [
        "### Q7:- Write a program to find the sum of squares of first n natural numbers where n will be provided by the user."
      ],
      "metadata": {
        "id": "gJ7C5kZYt4BP"
      }
    },
    {
      "cell_type": "code",
      "source": [
        "n = int(input(\"Enter n\"))\n",
        "\n",
        "for c in range (1,n):\n",
        "  print (c)"
      ],
      "metadata": {
        "colab": {
          "base_uri": "https://localhost:8080/"
        },
        "id": "CcCa1vBixCRP",
        "outputId": "5ccced7c-2839-4750-a8d3-0e0036affa51"
      },
      "execution_count": null,
      "outputs": [
        {
          "output_type": "stream",
          "name": "stdout",
          "text": [
            "Enter n6\n",
            "1\n",
            "2\n",
            "3\n",
            "4\n",
            "5\n"
          ]
        }
      ]
    },
    {
      "cell_type": "code",
      "source": [
        "# Write your code here\n",
        "n = int(input(\"Enter n\"))\n",
        "sum = 0\n",
        "for x in range (1,n+1):\n",
        "  sum = sum + ((x)**2)\n",
        "\n",
        "print ('n= ',n, 'sum= ',sum)\n"
      ],
      "metadata": {
        "id": "_tHsmEHzt2nX",
        "colab": {
          "base_uri": "https://localhost:8080/"
        },
        "outputId": "e913e023-2c9e-49c1-d934-e64a71baaf84"
      },
      "execution_count": null,
      "outputs": [
        {
          "output_type": "stream",
          "name": "stdout",
          "text": [
            "Enter n2\n",
            "n=  2 sum=  5\n"
          ]
        }
      ]
    },
    {
      "cell_type": "markdown",
      "source": [
        "### Q8:- Given the first 2 terms of an Arithmetic Series.Find the Nth term of the series. Assume all inputs are provided by the user."
      ],
      "metadata": {
        "id": "FHrMM7g-yG1h"
      }
    },
    {
      "cell_type": "code",
      "source": [
        "# Write your code here\n",
        "# formula = a+(n-1)*d\n",
        "a1 = int(input('Enter first term '))\n",
        "a2 = int(input('Enter the sencond term '))\n",
        "n = int(input('Enter the nth term'))\n",
        "difference = a2 - a1\n",
        "nth_term = a1+(n-1)*difference\n",
        "print ('The nth term for the sequence is: ',nth_term)"
      ],
      "metadata": {
        "id": "go4_kmZmyVSx"
      },
      "execution_count": null,
      "outputs": []
    },
    {
      "cell_type": "markdown",
      "source": [
        "### Q9:- Given 2 fractions, find the sum of those 2 fractions.Take the numerator and denominator values of the fractions from the user."
      ],
      "metadata": {
        "id": "QgyRX_es1oum"
      }
    },
    {
      "cell_type": "code",
      "source": [
        "# Write your code here\n",
        "nume1 = int(input('Enter the fraction numerator'))\n",
        "dem1 = int(input('Enter the fraction denominator'))\n",
        "nume2 = int(input('Enter the fraction numerator'))\n",
        "dem2 = int(input('Enter the fraction denominator'))\n",
        "decimal1 = nume1/dem1\n",
        "decimal2 = nume2/dem2\n",
        "sum = decimal1 + decimal2\n",
        "print (sum)"
      ],
      "metadata": {
        "id": "X05xqFS1yW16"
      },
      "execution_count": null,
      "outputs": []
    },
    {
      "cell_type": "markdown",
      "source": [
        "### Q10:- Given the height, width and breadth of a milk tank, you have to find out how many glasses of milk can be obtained? Assume all the inputs are provided by the user.\n",
        "\n",
        "\n",
        "\n",
        "Input:<br>\n",
        "Dimensions of the milk tank<br>\n",
        "H = 20cm, L = 20cm, B = 20cm\n",
        "<br><br>\n",
        "Dimensions of the glass<br>\n",
        "h = 3cm, r = 1cm"
      ],
      "metadata": {
        "id": "eaql38ln13u7"
      }
    },
    {
      "cell_type": "markdown",
      "source": [],
      "metadata": {
        "id": "Lw3VnICVudNd"
      }
    },
    {
      "cell_type": "code",
      "source": [
        "# Write your code here\n",
        "height = float(input('Enter height if milk tank: '))\n",
        "width  = float(input('Enter width of milk tank: '))\n",
        "breadth = float(input('Enter breadth of milk tank'))\n",
        "glass_height = float(input('Enter the height if glass'))\n",
        "glass_width = float(input('Enter the width of glass'))\n",
        "glass_breadth = float(input('Enter the breadth of galss'))\n",
        "\n",
        "volume_milktank = height * width * breadth\n",
        "volume_glass  = glass_width * glass_height * glass_breadth\n",
        "\n",
        "number_glass = volume_milktank // volume_glass\n",
        "print (number_glass,' number of glasses ',volume_glass,' can be filled by ', volume_milktank,' milk tank.')\n"
      ],
      "metadata": {
        "id": "FePZqno74eWv"
      },
      "execution_count": null,
      "outputs": []
    }
  ]
}